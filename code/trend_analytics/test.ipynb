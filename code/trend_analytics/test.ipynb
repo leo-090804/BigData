{
 "cells": [
  {
   "cell_type": "code",
   "execution_count": 1,
   "id": "727fc590",
   "metadata": {},
   "outputs": [],
   "source": [
    "# %pip install -r requirements.txt"
   ]
  },
  {
   "cell_type": "code",
   "execution_count": 1,
   "id": "76583dff",
   "metadata": {},
   "outputs": [],
   "source": [
    "from pyspark.sql import SparkSession\n",
    "from pyspark.sql.functions import col\n",
    "from pyspark.sql.functions import avg\n",
    "from pyspark.ml.feature import VectorAssembler\n",
    "from pyspark.ml.regression import LinearRegression\n",
    "\n",
    "import matplotlib.pyplot as plt\n",
    "import seaborn as sns"
   ]
  },
  {
   "cell_type": "code",
   "execution_count": 2,
   "id": "d532f371",
   "metadata": {},
   "outputs": [],
   "source": [
    "spark = SparkSession.builder.appName(\"CO2Analysis\").getOrCreate()\n",
    "\n",
    "co2_df = spark.read.csv(\n",
    "    \"hdfs://26.3.217.119:9000/climate_data/trend_analytics/co2_mm_mlo.csv\",\n",
    "    header=True,\n",
    "    schema=\"year INT, month INT, decimal_date DOUBLE, average DOUBLE, deseasonalized DOUBLE, ndays INT, sdev DOUBLE, unc DOUBLE\",\n",
    ")\n",
    "\n",
    "ch4_df = spark.read.csv(\n",
    "    \"hdfs://26.3.217.119:9000/climate_data/trend_analytics/ch4_mm_gl.csv\",\n",
    "    header=True,\n",
    "    schema=\"year INT, month INT, decimal DOUBLE, average DOUBLE, average_unc DOUBLE, trend DOUBLE, trend_unc DOUBLE\",\n",
    ")\n",
    "\n",
    "n2o_df = spark.read.csv(\n",
    "    \"hdfs://26.3.217.119:9000/climate_data/trend_analytics/n2o_mm_gl.csv\",\n",
    "    header=True,\n",
    "    schema=\"year INT, month INT, decimal DOUBLE, average DOUBLE, average_unc DOUBLE, trend DOUBLE, trend_unc DOUBLE\",\n",
    ")\n",
    "\n",
    "sf6_df = spark.read.csv(\n",
    "    \"hdfs://26.3.217.119:9000/climate_data/trend_analytics/sf6_mm_gl.csv\",\n",
    "    header=True,\n",
    "    schema=\"year INT, month INT, decimal DOUBLE, average DOUBLE, average_unc DOUBLE, trend DOUBLE, trend_unc DOUBLE\",\n",
    ")"
   ]
  },
  {
   "cell_type": "code",
   "execution_count": 3,
   "id": "6c3c27ac",
   "metadata": {},
   "outputs": [
    {
     "data": {
      "text/plain": [
       "DataFrame[year: int, month: int, decimal_date: double, average: double, deseasonalized: double, ndays: int, sdev: double, unc: double]"
      ]
     },
     "execution_count": 3,
     "metadata": {},
     "output_type": "execute_result"
    }
   ],
   "source": [
    "co2_df"
   ]
  },
  {
   "cell_type": "code",
   "execution_count": 10,
   "id": "9467ee28",
   "metadata": {},
   "outputs": [
    {
     "data": {
      "text/plain": [
       "DataFrame[year: int, month: int, decimal: double, average: double, average_unc: double, trend: double, trend_unc: double]"
      ]
     },
     "execution_count": 10,
     "metadata": {},
     "output_type": "execute_result"
    }
   ],
   "source": [
    "ch4_df"
   ]
  },
  {
   "cell_type": "code",
   "execution_count": null,
   "id": "f57cef6c",
   "metadata": {},
   "outputs": [],
   "source": [
    "n2o_df"
   ]
  },
  {
   "cell_type": "code",
   "execution_count": null,
   "id": "ff1a047a",
   "metadata": {},
   "outputs": [],
   "source": [
    "sf6_df"
   ]
  },
  {
   "cell_type": "code",
   "execution_count": 4,
   "id": "ff6b7071",
   "metadata": {},
   "outputs": [],
   "source": [
    "clean_co2 = co2_df.filter((col(\"average\") > 0) & (col(\"year\") >= 1958) & (col(\"month\").between(1, 12)))"
   ]
  },
  {
   "cell_type": "code",
   "execution_count": 5,
   "id": "5352651f",
   "metadata": {},
   "outputs": [
    {
     "data": {
      "text/plain": [
       "DataFrame[year: int, month: int, decimal_date: double, average: double, deseasonalized: double, ndays: int, sdev: double, unc: double]"
      ]
     },
     "execution_count": 5,
     "metadata": {},
     "output_type": "execute_result"
    }
   ],
   "source": [
    "clean_co2"
   ]
  },
  {
   "cell_type": "code",
   "execution_count": 7,
   "id": "28d966bb",
   "metadata": {},
   "outputs": [],
   "source": [
    "co2_clean = clean_co2.select(\"year\", \"month\", \"decimal_date\", \"average\", \"deseasonalized\")"
   ]
  },
  {
   "cell_type": "code",
   "execution_count": 8,
   "id": "0776aab8",
   "metadata": {},
   "outputs": [],
   "source": [
    "annual_co2 = co2_clean.groupBy(\"year\").agg(avg(\"average\").alias(\"avg_co2_ppm\")).orderBy(\"year\")"
   ]
  },
  {
   "cell_type": "code",
   "execution_count": 9,
   "id": "a051b82b",
   "metadata": {},
   "outputs": [
    {
     "data": {
      "text/plain": [
       "DataFrame[year: int, avg_co2_ppm: double]"
      ]
     },
     "execution_count": 9,
     "metadata": {},
     "output_type": "execute_result"
    }
   ],
   "source": [
    "annual_co2"
   ]
  },
  {
   "cell_type": "code",
   "execution_count": 34,
   "id": "b78677a9",
   "metadata": {},
   "outputs": [],
   "source": [
    "assembler = VectorAssembler(inputCols=[\"year\"], outputCol=\"features\")\n",
    "\n",
    "data = assembler.transform(annual_co2.select(\"year\", \"avg_co2_ppm\"))\n",
    "\n",
    "lr = LinearRegression(featuresCol=\"features\", labelCol=\"avg_co2_ppm\", predictionCol=\"prediction\")\n",
    "\n",
    "model = lr.fit(data)"
   ]
  },
  {
   "cell_type": "code",
   "execution_count": 35,
   "id": "7046c0f1",
   "metadata": {},
   "outputs": [
    {
     "name": "stdout",
     "output_type": "stream",
     "text": [
      "Slope: 1.657 ppm/year\n",
      "Intercept: -2940.3 ppm\n",
      "R-squared: 0.980\n"
     ]
    }
   ],
   "source": [
    "print(f\"Slope: {model.coefficients[0]:.3f} ppm/year\")\n",
    "print(f\"Intercept: {model.intercept:.1f} ppm\")\n",
    "print(f\"R-squared: {model.summary.r2:.3f}\")\n"
   ]
  },
  {
   "cell_type": "code",
   "execution_count": 36,
   "id": "30421061",
   "metadata": {},
   "outputs": [],
   "source": [
    "annual_pd = annual_co2.toPandas()"
   ]
  },
  {
   "cell_type": "code",
   "execution_count": 37,
   "id": "7dad906f",
   "metadata": {},
   "outputs": [
    {
     "data": {
      "application/vnd.microsoft.datawrangler.viewer.v0+json": {
       "columns": [
        {
         "name": "index",
         "rawType": "int64",
         "type": "integer"
        },
        {
         "name": "year",
         "rawType": "int32",
         "type": "integer"
        },
        {
         "name": "avg_co2_ppm",
         "rawType": "float64",
         "type": "float"
        }
       ],
       "conversionMethod": "pd.DataFrame",
       "ref": "cb556a61-4897-44fe-ac51-2f5d852717f3",
       "rows": [
        [
         "0",
         "1958",
         "315.23699999999997"
        ],
        [
         "1",
         "1959",
         "315.9816666666667"
        ],
        [
         "2",
         "1960",
         "316.90833333333336"
        ],
        [
         "3",
         "1961",
         "317.6433333333334"
        ],
        [
         "4",
         "1962",
         "318.4533333333333"
        ],
        [
         "5",
         "1963",
         "318.9925"
        ],
        [
         "6",
         "1964",
         "319.62"
        ],
        [
         "7",
         "1965",
         "320.0366666666667"
        ],
        [
         "8",
         "1966",
         "321.36749999999995"
        ],
        [
         "9",
         "1967",
         "322.1791666666667"
        ],
        [
         "10",
         "1968",
         "323.05"
        ],
        [
         "11",
         "1969",
         "324.62083333333334"
        ],
        [
         "12",
         "1970",
         "325.6816666666667"
        ],
        [
         "13",
         "1971",
         "326.32"
        ],
        [
         "14",
         "1972",
         "327.45666666666665"
        ],
        [
         "15",
         "1973",
         "329.6816666666667"
        ],
        [
         "16",
         "1974",
         "330.1933333333333"
        ],
        [
         "17",
         "1975",
         "331.1283333333334"
        ],
        [
         "18",
         "1976",
         "332.0258333333333"
        ],
        [
         "19",
         "1977",
         "333.84416666666664"
        ],
        [
         "20",
         "1978",
         "335.41499999999996"
        ],
        [
         "21",
         "1979",
         "336.83500000000004"
        ],
        [
         "22",
         "1980",
         "338.7625"
        ],
        [
         "23",
         "1981",
         "340.12"
        ],
        [
         "24",
         "1982",
         "341.4775"
        ],
        [
         "25",
         "1983",
         "343.15333333333325"
        ],
        [
         "26",
         "1984",
         "344.8675"
        ],
        [
         "27",
         "1985",
         "346.3516666666667"
        ],
        [
         "28",
         "1986",
         "347.6075000000001"
        ],
        [
         "29",
         "1987",
         "349.31166666666667"
        ],
        [
         "30",
         "1988",
         "351.69000000000005"
        ],
        [
         "31",
         "1989",
         "353.2050000000001"
        ],
        [
         "32",
         "1990",
         "354.45250000000004"
        ],
        [
         "33",
         "1991",
         "355.70416666666665"
        ],
        [
         "34",
         "1992",
         "356.54583333333335"
        ],
        [
         "35",
         "1993",
         "357.2149999999999"
        ],
        [
         "36",
         "1994",
         "358.95916666666676"
        ],
        [
         "37",
         "1995",
         "360.9683333333333"
        ],
        [
         "38",
         "1996",
         "362.7433333333334"
        ],
        [
         "39",
         "1997",
         "363.8766666666667"
        ],
        [
         "40",
         "1998",
         "366.84"
        ],
        [
         "41",
         "1999",
         "368.53999999999996"
        ],
        [
         "42",
         "2000",
         "369.7075"
        ],
        [
         "43",
         "2001",
         "371.31916666666666"
        ],
        [
         "44",
         "2002",
         "373.45166666666665"
        ],
        [
         "45",
         "2003",
         "375.98333333333335"
        ],
        [
         "46",
         "2004",
         "377.6983333333333"
        ],
        [
         "47",
         "2005",
         "379.98333333333335"
        ],
        [
         "48",
         "2006",
         "382.09083333333336"
        ],
        [
         "49",
         "2007",
         "384.0249999999999"
        ]
       ],
       "shape": {
        "columns": 2,
        "rows": 68
       }
      },
      "text/html": [
       "<div>\n",
       "<style scoped>\n",
       "    .dataframe tbody tr th:only-of-type {\n",
       "        vertical-align: middle;\n",
       "    }\n",
       "\n",
       "    .dataframe tbody tr th {\n",
       "        vertical-align: top;\n",
       "    }\n",
       "\n",
       "    .dataframe thead th {\n",
       "        text-align: right;\n",
       "    }\n",
       "</style>\n",
       "<table border=\"1\" class=\"dataframe\">\n",
       "  <thead>\n",
       "    <tr style=\"text-align: right;\">\n",
       "      <th></th>\n",
       "      <th>year</th>\n",
       "      <th>avg_co2_ppm</th>\n",
       "    </tr>\n",
       "  </thead>\n",
       "  <tbody>\n",
       "    <tr>\n",
       "      <th>0</th>\n",
       "      <td>1958</td>\n",
       "      <td>315.237000</td>\n",
       "    </tr>\n",
       "    <tr>\n",
       "      <th>1</th>\n",
       "      <td>1959</td>\n",
       "      <td>315.981667</td>\n",
       "    </tr>\n",
       "    <tr>\n",
       "      <th>2</th>\n",
       "      <td>1960</td>\n",
       "      <td>316.908333</td>\n",
       "    </tr>\n",
       "    <tr>\n",
       "      <th>3</th>\n",
       "      <td>1961</td>\n",
       "      <td>317.643333</td>\n",
       "    </tr>\n",
       "    <tr>\n",
       "      <th>4</th>\n",
       "      <td>1962</td>\n",
       "      <td>318.453333</td>\n",
       "    </tr>\n",
       "    <tr>\n",
       "      <th>...</th>\n",
       "      <td>...</td>\n",
       "      <td>...</td>\n",
       "    </tr>\n",
       "    <tr>\n",
       "      <th>63</th>\n",
       "      <td>2021</td>\n",
       "      <td>416.414167</td>\n",
       "    </tr>\n",
       "    <tr>\n",
       "      <th>64</th>\n",
       "      <td>2022</td>\n",
       "      <td>418.528333</td>\n",
       "    </tr>\n",
       "    <tr>\n",
       "      <th>65</th>\n",
       "      <td>2023</td>\n",
       "      <td>421.075833</td>\n",
       "    </tr>\n",
       "    <tr>\n",
       "      <th>66</th>\n",
       "      <td>2024</td>\n",
       "      <td>424.604167</td>\n",
       "    </tr>\n",
       "    <tr>\n",
       "      <th>67</th>\n",
       "      <td>2025</td>\n",
       "      <td>426.870000</td>\n",
       "    </tr>\n",
       "  </tbody>\n",
       "</table>\n",
       "<p>68 rows × 2 columns</p>\n",
       "</div>"
      ],
      "text/plain": [
       "    year  avg_co2_ppm\n",
       "0   1958   315.237000\n",
       "1   1959   315.981667\n",
       "2   1960   316.908333\n",
       "3   1961   317.643333\n",
       "4   1962   318.453333\n",
       "..   ...          ...\n",
       "63  2021   416.414167\n",
       "64  2022   418.528333\n",
       "65  2023   421.075833\n",
       "66  2024   424.604167\n",
       "67  2025   426.870000\n",
       "\n",
       "[68 rows x 2 columns]"
      ]
     },
     "execution_count": 37,
     "metadata": {},
     "output_type": "execute_result"
    }
   ],
   "source": [
    "annual_pd"
   ]
  },
  {
   "cell_type": "code",
   "execution_count": 38,
   "id": "da6f10b8",
   "metadata": {},
   "outputs": [
    {
     "data": {
      "image/png": "[encoded data removed]",
      "text/plain": [
       "<Figure size 1200x600 with 1 Axes>"
      ]
     },
     "metadata": {},
     "output_type": "display_data"
    }
   ],
   "source": [
    "plt.figure(figsize=(12, 6))\n",
    "sns.lineplot(x=\"year\", y=\"avg_co2_ppm\", data=annual_pd, marker=\"o\", color=\"darkorange\")\n",
    "\n",
    "plt.title(\"Average CO2 by year (from 1958)\")\n",
    "plt.xlabel(\"Year\")\n",
    "plt.ylabel(\"CO2 (ppm)\")\n",
    "plt.grid(True)"
   ]
  },
  {
   "cell_type": "code",
   "execution_count": 1,
   "id": "e3822ef2",
   "metadata": {},
   "outputs": [],
   "source": [
    "from pyspark.sql import SparkSession\n",
    "from pyspark.sql.functions import col, udf, to_timestamp, expr, split, when, lit\n",
    "from pyspark.sql.types import StructType, StructField, StringType, IntegerType, FloatType, TimestampType\n",
    "from sedona.spark import SedonaContext\n",
    "from sedona.utils import SedonaKryoRegistrator, KryoSerializer\n",
    "from sedona.core.SpatialRDD import PointRDD\n",
    "from sedona.core.formatMapper.shapefileParser import ShapefileReader\n",
    "from sedona.core.enums import FileDataSplitter\n",
    "from sedona.core.geom.envelope import Envelope\n",
    "from sedona.sql.types import GeometryType\n",
    "import yaml\n",
    "import os\n",
    "from shapely import wkt\n",
    "from shapely.geometry import box\n",
    "\n",
    "from pyspark.sql.functions import to_json, struct"
   ]
  },
  {
   "cell_type": "code",
   "execution_count": 2,
   "id": "a722368e",
   "metadata": {},
   "outputs": [],
   "source": [
    "HDFS_PREFIX = \"hdfs://26.3.217.119:9000\"\n",
    "READ_DIR = \"building.json\"\n",
    "SAVE_DIR = f\"{HDFS_PREFIX}/climate_data/uhi_index_analytics/preprocessed/\""
   ]
  },
  {
   "cell_type": "code",
   "execution_count": 3,
   "id": "ea2be24f",
   "metadata": {},
   "outputs": [],
   "source": [
    "with open(\"config.yaml\", \"r\") as file:\n",
    "    config = yaml.safe_load(file)\n",
    "COORDS = config[\"coords\"]\n",
    "CRS = config[\"satellite_config\"][\"params\"][\"crs\"]"
   ]
  },
  {
   "cell_type": "code",
   "execution_count": 4,
   "id": "dc2aac3a",
   "metadata": {},
   "outputs": [],
   "source": [
    "# def create_spark_session():\n",
    "#     spark = (\n",
    "#         SparkSession.builder.appName(\"GeoSpatialPreprocessing\")\n",
    "#         .config(\"spark.serializer\", KryoSerializer.getName)\n",
    "#         .config(\"spark.kryo.registrator\", SedonaKryoRegistrator.getName)\n",
    "#         .config(\n",
    "#             \"spark.jars.packages\",\n",
    "#             \"org.apache.sedona:sedona-python-adapter-3.0_2.12:1.1.1-incubating,\"\n",
    "#             \"org.datasyslab:geotools-wrapper:1.1.0-25.2\",\n",
    "#         )\n",
    "#         .getOrCreate()\n",
    "#     )\n",
    "\n",
    "#     # Register Sedona functions\n",
    "#     SedonaRegistrator.registerAll(spark)\n",
    "#     return spark\n",
    "\n",
    "\n",
    "def create_spark_session():\n",
    "    # Create a Sedona Context using individual config calls\n",
    "    builder = SedonaContext.builder()\n",
    "\n",
    "    # Set application name\n",
    "    builder = builder.config(\"spark.app.name\", \"GeoSpatialPreprocessing\")\n",
    "\n",
    "    # Add each configuration individually\n",
    "    builder = builder.config(\n",
    "        \"spark.jars.packages\",\n",
    "        \"org.apache.sedona:sedona-spark-shaded-3.0_2.12:1.4.1,org.datasyslab:geotools-wrapper:1.4.0-28.2\",\n",
    "    )\n",
    "    builder = builder.config(\"spark.serializer\", \"org.apache.spark.serializer.KryoSerializer\")\n",
    "    builder = builder.config(\"spark.sql.extensions\", \"org.apache.sedona.sql.SedonaSqlExtensions\")\n",
    "    builder = builder.config(\"spark.sql.catalog.sedona\", \"org.apache.sedona.sql.SpatialCatalog\")\n",
    "    builder = builder.config(\"spark.sql.catalog.sedona.options\", \"{}\")\n",
    "    builder = builder.config(\"spark.driver.memory\", \"6g\")\n",
    "\n",
    "    # Create and return the Sedona context\n",
    "    sedona = builder.getOrCreate()\n",
    "\n",
    "    return sedona"
   ]
  },
  {
   "cell_type": "code",
   "execution_count": 44,
   "id": "9706835a",
   "metadata": {},
   "outputs": [],
   "source": [
    "def filter_building_spark(spark, config, readfile, savefile):\n",
    "    \"\"\"Process building data using Spark from GeoJSON format\"\"\"\n",
    "    print(f\"Processing {readfile}\")\n",
    "\n",
    "    # Define coordinates from config\n",
    "    COORDS = config[\"coords\"]\n",
    "\n",
    "    # Read GeoJSON file using Sedona's GeoJSON reader\n",
    "    df = spark.read.format(\"json\").load(readfile)\n",
    "\n",
    "    print(\"Input schema:\")\n",
    "    df.printSchema()\n",
    "\n",
    "    # Register UDFs and temporary view\n",
    "    df.createOrReplaceTempView(\"buildings_raw\")\n",
    "\n",
    "    # For GeoJSON, the geometry is already properly structured\n",
    "    # No need for the wkt_to_geometry conversion\n",
    "\n",
    "    # Check and select necessary columns\n",
    "    # Note: Column names may be different in GeoJSON compared to JSON\n",
    "    df = spark.sql(\n",
    "        \"\"\"\n",
    "        SELECT \n",
    "            bin, cnstrct_yr, heightroof, geometry, base_bbl, mpluto_bbl,\n",
    "            TO_TIMESTAMP(lstmoddate) as lstmoddate,\n",
    "            feat_code, lststatype\n",
    "        FROM buildings_raw\n",
    "        WHERE \n",
    "            geometry IS NOT NULL AND \n",
    "            bin IS NOT NULL AND \n",
    "            cnstrct_yr IS NOT NULL AND \n",
    "            heightroof IS NOT NULL\n",
    "    \"\"\"\n",
    "    )\n",
    "\n",
    "    # Convert data types\n",
    "    df = (\n",
    "        df.withColumn(\"bin\", col(\"bin\").cast(IntegerType()))\n",
    "        .withColumn(\"cnstrct_yr\", col(\"cnstrct_yr\").cast(IntegerType()))\n",
    "        .withColumn(\"heightroof\", col(\"heightroof\").cast(FloatType()))\n",
    "        .withColumn(\"feat_code\", col(\"feat_code\").cast(IntegerType()))\n",
    "        .withColumn(\"base_bbl\", col(\"base_bbl\").cast(StringType()))\n",
    "        .withColumn(\"mpluto_bbl\", col(\"mpluto_bbl\").cast(StringType()))\n",
    "    )\n",
    "\n",
    "    # Apply filters\n",
    "    df = df.filter(\n",
    "        (col(\"cnstrct_yr\") <= 2021)\n",
    "        & (col(\"bin\") / 1000000).isin(1, 2)\n",
    "        & (col(\"heightroof\") >= 12)\n",
    "        & (col(\"feat_code\").isin(1006, 2100))\n",
    "        & (col(\"lstmoddate\") < \"2021-07-24\")\n",
    "        & (col(\"lststatype\") == \"Constructed\")\n",
    "    )\n",
    "\n",
    "    # Create spatial query to filter by area using the already structured geometry\n",
    "    df.createOrReplaceTempView(\"buildings_processed\")\n",
    "    bbox_query = f\"\"\"\n",
    "    SELECT * FROM buildings_processed\n",
    "    WHERE ST_Contains(\n",
    "        ST_GeomFromWKT('POLYGON(({COORDS[0]} {COORDS[1]}, {COORDS[2]} {COORDS[1]}, \n",
    "                                {COORDS[2]} {COORDS[3]}, {COORDS[0]} {COORDS[3]}, \n",
    "                                {COORDS[0]} {COORDS[1]}))'),\n",
    "        geometry\n",
    "    )\n",
    "    \"\"\"\n",
    "    df = spark.sql(bbox_query)\n",
    "\n",
    "    # Reproject to calculate area\n",
    "    df.createOrReplaceTempView(\"buildings_filtered\")\n",
    "    area_query = \"\"\"\n",
    "    SELECT *, \n",
    "           ST_Area(ST_Transform(geometry, 'EPSG:4326', 'EPSG:2263')) as shape_area\n",
    "    FROM buildings_filtered\n",
    "    \"\"\"\n",
    "    df = spark.sql(area_query)\n",
    "\n",
    "    # Filter by area\n",
    "    df = df.filter(col(\"shape_area\") >= 400)\n",
    "\n",
    "    # Final projection and select needed columns\n",
    "    df.createOrReplaceTempView(\"buildings_final\")\n",
    "    final_df = spark.sql(\n",
    "        \"\"\"\n",
    "    SELECT bin, cnstrct_yr, heightroof, shape_area, geometry, base_bbl, mpluto_bbl\n",
    "    FROM buildings_final\n",
    "    \"\"\"\n",
    "    )\n",
    "\n",
    "    # Save to HDFS as GeoJSON\n",
    "    final_df.write.format(\"geojson\").mode(\"overwrite\").save(f\"{SAVE_DIR}{savefile}\")\n",
    "\n",
    "    print(f\"Data is saved at {SAVE_DIR}{savefile}.\")"
   ]
  },
  {
   "cell_type": "code",
   "execution_count": 5,
   "id": "66bb349c",
   "metadata": {},
   "outputs": [],
   "source": [
    "spark = create_spark_session()"
   ]
  },
  {
   "cell_type": "code",
   "execution_count": 6,
   "id": "f99aac63",
   "metadata": {},
   "outputs": [],
   "source": [
    "COORDS = config[\"coords\"]\n",
    "df = spark.read.format(\"json\").option(\"multiline\", \"true\").load(READ_DIR)"
   ]
  },
  {
   "cell_type": "code",
   "execution_count": 7,
   "id": "594e2b8b",
   "metadata": {},
   "outputs": [
    {
     "name": "stdout",
     "output_type": "stream",
     "text": [
      "Input schema:\n",
      "root\n",
      " |-- base_bbl: string (nullable = true)\n",
      " |-- bin: string (nullable = true)\n",
      " |-- cnstrct_yr: string (nullable = true)\n",
      " |-- doitt_id: string (nullable = true)\n",
      " |-- feat_code: string (nullable = true)\n",
      " |-- geomsource: string (nullable = true)\n",
      " |-- globalid: string (nullable = true)\n",
      " |-- groundelev: string (nullable = true)\n",
      " |-- heightroof: string (nullable = true)\n",
      " |-- lstmoddate: string (nullable = true)\n",
      " |-- lststatype: string (nullable = true)\n",
      " |-- mpluto_bbl: string (nullable = true)\n",
      " |-- name: string (nullable = true)\n",
      " |-- shape_area: string (nullable = true)\n",
      " |-- shape_len: string (nullable = true)\n",
      " |-- the_geom: struct (nullable = true)\n",
      " |    |-- coordinates: array (nullable = true)\n",
      " |    |    |-- element: array (containsNull = true)\n",
      " |    |    |    |-- element: array (containsNull = true)\n",
      " |    |    |    |    |-- element: array (containsNull = true)\n",
      " |    |    |    |    |    |-- element: double (containsNull = true)\n",
      " |    |-- type: string (nullable = true)\n",
      "\n"
     ]
    }
   ],
   "source": [
    "print(\"Input schema:\")\n",
    "df.printSchema()"
   ]
  },
  {
   "cell_type": "code",
   "execution_count": 8,
   "id": "452d9956",
   "metadata": {},
   "outputs": [],
   "source": [
    "df.createOrReplaceTempView(\"buildings_raw\")"
   ]
  },
  {
   "cell_type": "code",
   "execution_count": 9,
   "id": "3831f98e",
   "metadata": {},
   "outputs": [],
   "source": [
    "df = spark.sql(\n",
    "    \"\"\"\n",
    "        SELECT \n",
    "            bin, cnstrct_yr, heightroof, the_geom as geometry, base_bbl, mpluto_bbl,\n",
    "            TO_TIMESTAMP(lstmoddate) as lstmoddate,\n",
    "            feat_code, lststatype\n",
    "        FROM buildings_raw\n",
    "        WHERE \n",
    "            the_geom IS NOT NULL AND \n",
    "            bin IS NOT NULL AND \n",
    "            cnstrct_yr IS NOT NULL AND \n",
    "            heightroof IS NOT NULL\n",
    "        \"\"\"\n",
    ")"
   ]
  },
  {
   "cell_type": "code",
   "execution_count": 10,
   "id": "1fa63289",
   "metadata": {},
   "outputs": [],
   "source": [
    "df = (\n",
    "    df.withColumn(\"bin\", col(\"bin\").cast(IntegerType()))\n",
    "    .withColumn(\"cnstrct_yr\", col(\"cnstrct_yr\").cast(IntegerType()))\n",
    "    .withColumn(\"heightroof\", col(\"heightroof\").cast(FloatType()))\n",
    "    .withColumn(\"feat_code\", col(\"feat_code\").cast(IntegerType()))\n",
    "    .withColumn(\"base_bbl\", col(\"base_bbl\").cast(StringType()))\n",
    "    .withColumn(\"mpluto_bbl\", col(\"mpluto_bbl\").cast(StringType()))\n",
    ")"
   ]
  },
  {
   "cell_type": "code",
   "execution_count": 11,
   "id": "79c520fa",
   "metadata": {},
   "outputs": [
    {
     "data": {
      "text/plain": [
       "DataFrame[bin: int, cnstrct_yr: int, heightroof: float, geometry: struct<coordinates:array<array<array<array<double>>>>,type:string>, base_bbl: string, mpluto_bbl: string, lstmoddate: timestamp, feat_code: int, lststatype: string]"
      ]
     },
     "execution_count": 11,
     "metadata": {},
     "output_type": "execute_result"
    }
   ],
   "source": [
    "df.filter(\n",
    "    (col(\"cnstrct_yr\") <= 2021)\n",
    "    & (col(\"bin\") / 1000000).cast(\"integer\").isin(1, 2)\n",
    "    & (col(\"heightroof\") >= 12)\n",
    "    & (col(\"feat_code\").isin(1006, 2100))\n",
    "    & (col(\"lstmoddate\") < \"2021-07-24\")\n",
    "    & (col(\"lststatype\") == \"Constructed\")\n",
    ")"
   ]
  },
  {
   "cell_type": "code",
   "execution_count": 12,
   "id": "b6810c99",
   "metadata": {},
   "outputs": [],
   "source": [
    "df.createOrReplaceTempView(\"buildings_processed\")"
   ]
  },
  {
   "cell_type": "code",
   "execution_count": 13,
   "id": "09d762b9",
   "metadata": {},
   "outputs": [],
   "source": [
    "bbox_query = f\"\"\"\n",
    "    SELECT * FROM buildings_processed\n",
    "    WHERE ST_Contains(\n",
    "        ST_GeomFromWKT('POLYGON(({COORDS[0]} {COORDS[1]}, {COORDS[2]} {COORDS[1]}, \n",
    "                              {COORDS[2]} {COORDS[3]}, {COORDS[0]} {COORDS[3]}, \n",
    "                              {COORDS[0]} {COORDS[1]}))'),\n",
    "        ST_GeomFromGeoJSON(to_json(geometry))\n",
    "    )\n",
    "    \"\"\""
   ]
  },
  {
   "cell_type": "code",
   "execution_count": 14,
   "id": "01acd42c",
   "metadata": {},
   "outputs": [],
   "source": [
    "df = spark.sql(bbox_query)"
   ]
  },
  {
   "cell_type": "code",
   "execution_count": 39,
   "id": "2f810bbf",
   "metadata": {},
   "outputs": [
    {
     "name": "stdout",
     "output_type": "stream",
     "text": [
      "+-------+----------+----------+------------------------------------------------------------------------------------------------------------------------------------------------------------------------------------------------------------------------------------------------------------------------------------------------------------------------------------------------------------------------------------------------------------------------------------------------------------------------------------------------------------------------------+----------+----------+-------------------+---------+-----------+------------------+\n",
      "|bin    |cnstrct_yr|heightroof|geometry                                                                                                                                                                                                                                                                                                                                                                                                                                                                                                                      |base_bbl  |mpluto_bbl|lstmoddate         |feat_code|lststatype |shape_area        |\n",
      "+-------+----------+----------+------------------------------------------------------------------------------------------------------------------------------------------------------------------------------------------------------------------------------------------------------------------------------------------------------------------------------------------------------------------------------------------------------------------------------------------------------------------------------------------------------------------------------+----------+----------+-------------------+---------+-----------+------------------+\n",
      "|1062896|1910      |59.72263  |{[[[[-73.93870129348369, 40.83782255082236], [-73.93863274728417, 40.837793362686384], [-73.93868735142524, 40.83771939544975], [-73.93875589875822, 40.83774858355427], [-73.93875934660396, 40.83776283209733], [-73.93886677344298, 40.83780857654031], [-73.9389632752029, 40.83784966855385], [-73.93892276743878, 40.83790454031016], [-73.9387842204902, 40.83784554575078], [-73.93871883872292, 40.83781770558379], [-73.93870129348369, 40.83782255082236]]]], MultiPolygon}                                        |1021210037|1021210037|2017-08-22 00:00:00|2100     |Constructed|218988.27357784502|\n",
      "|4029023|1950      |27.49     |{[[[[-73.8912895289403, 40.75272130268563], [-73.89116846786757, 40.75273305704305], [-73.89115542115394, 40.752734323434666], [-73.89110203573753, 40.75273950671998], [-73.89109286143562, 40.75268486162695], [-73.89121004963818, 40.75267348370498], [-73.89128035448711, 40.75266665760736], [-73.8912895289403, 40.75272130268563]]]], MultiPolygon}                                                                                                                                                                   |4012620069|4012620069|2017-08-22 00:00:00|2100     |Constructed|101689.72485146049|\n",
      "|2117853|1973      |10.546548 |{[[[[-73.8728656565514, 40.802686937734485], [-73.87290292278662, 40.80263905603335], [-73.87302773349549, 40.802695145224995], [-73.87299046731698, 40.80274302786649], [-73.8728656565514, 40.802686937734485]]]], MultiPolygon}                                                                                                                                                                                                                                                                                            |2027810500|2027810500|2014-07-16 00:00:00|2100     |Constructed|78572.44530201452 |\n",
      "|1039988|1931      |167.21446 |{[[[[-73.96425191767109, 40.75860443341257], [-73.96420786959342, 40.7586654055304], [-73.96419445498398, 40.75868397427552], [-73.96412254753994, 40.75865393807461], [-73.96386581932533, 40.758546699549015], [-73.96395149343766, 40.7584281091784], [-73.96402860779857, 40.75846679286112], [-73.96402586182576, 40.75847059393551], [-73.96417057189117, 40.75853671808638], [-73.96416745615988, 40.75854103143638], [-73.9642675235684, 40.75858283063869], [-73.96425191767109, 40.75860443341257]]]], MultiPolygon}|1013490035|1013490035|2017-08-22 00:00:00|2100     |Constructed|454849.5231173799 |\n",
      "|1026714|1910      |28.57     |{[[[[-73.99058371175799, 40.76522840884142], [-73.99065260475987, 40.76513386333467], [-73.9907162196705, 40.76516066027291], [-73.99064732673129, 40.7652552049168], [-73.99058371175799, 40.76522840884142]]]], MultiPolygon}                                                                                                                                                                                                                                                                                               |1010610006|1010610006|2017-08-22 00:00:00|2100     |Constructed|77867.58400544625 |\n",
      "+-------+----------+----------+------------------------------------------------------------------------------------------------------------------------------------------------------------------------------------------------------------------------------------------------------------------------------------------------------------------------------------------------------------------------------------------------------------------------------------------------------------------------------------------------------------------------------+----------+----------+-------------------+---------+-----------+------------------+\n",
      "only showing top 5 rows\n",
      "\n"
     ]
    }
   ],
   "source": [
    "df.show(5, truncate=False)"
   ]
  },
  {
   "cell_type": "code",
   "execution_count": 15,
   "id": "8028822e",
   "metadata": {},
   "outputs": [],
   "source": [
    "df.createOrReplaceTempView(\"buildings_filtered\")"
   ]
  },
  {
   "cell_type": "code",
   "execution_count": 20,
   "id": "9ccbf550",
   "metadata": {},
   "outputs": [],
   "source": [
    "area_query = \"\"\"\n",
    "        SELECT *, \n",
    "               ST_Area(ST_Transform(ST_GeomFromGeoJSON(to_json(geometry)), 'EPSG:4326', 'EPSG:2263')) as shape_area\n",
    "        FROM buildings_filtered\n",
    "        \"\"\""
   ]
  },
  {
   "cell_type": "code",
   "execution_count": 21,
   "id": "f9b34fba",
   "metadata": {},
   "outputs": [],
   "source": [
    "df = spark.sql(area_query)"
   ]
  },
  {
   "cell_type": "code",
   "execution_count": 22,
   "id": "66b46580",
   "metadata": {},
   "outputs": [
    {
     "name": "stdout",
     "output_type": "stream",
     "text": [
      "+-------+----------+----------+--------------------+----------+----------+-------------------+---------+-----------+------------------+\n",
      "|    bin|cnstrct_yr|heightroof|            geometry|  base_bbl|mpluto_bbl|         lstmoddate|feat_code| lststatype|        shape_area|\n",
      "+-------+----------+----------+--------------------+----------+----------+-------------------+---------+-----------+------------------+\n",
      "|1062896|      1910|  59.72263|{[[[[-73.93870129...|1021210037|1021210037|2017-08-22 00:00:00|     2100|Constructed|218988.27357784502|\n",
      "|4029023|      1950|     27.49|{[[[[-73.89128952...|4012620069|4012620069|2017-08-22 00:00:00|     2100|Constructed|101689.72485146049|\n",
      "|2117853|      1973| 10.546548|{[[[[-73.87286565...|2027810500|2027810500|2014-07-16 00:00:00|     2100|Constructed| 78572.44530201452|\n",
      "|1039988|      1931| 167.21446|{[[[[-73.96425191...|1013490035|1013490035|2017-08-22 00:00:00|     2100|Constructed| 454849.5231173799|\n",
      "|1026714|      1910|     28.57|{[[[[-73.99058371...|1010610006|1010610006|2017-08-22 00:00:00|     2100|Constructed| 77867.58400544625|\n",
      "|1086948|      1974|  33.13003|{[[[[-73.93617179...|1017870060|1017870060|2009-02-14 00:00:00|     2100|Constructed|103926.40730850786|\n",
      "|2004511|      1901|     30.16|{[[[[-73.90466794...|2026330029|2026330029|2017-08-22 00:00:00|     2100|Constructed| 84964.15119213199|\n",
      "|1055733|      1905|   70.4934|{[[[[-73.96080016...|1018440058|1018440058|2017-08-22 00:00:00|     2100|Constructed|228180.58200360212|\n",
      "|2007158|      1901|     27.91|{[[[[-73.90984378...|2027820173|2027820173|2017-08-22 00:00:00|     2100|Constructed| 69620.70481008165|\n",
      "|4472063|      1925|   9.41991|{[[[[-73.86754711...|4016870059|4016870059|2017-08-17 00:00:00|     5110|Constructed| 38822.76869450094|\n",
      "+-------+----------+----------+--------------------+----------+----------+-------------------+---------+-----------+------------------+\n",
      "only showing top 10 rows\n",
      "\n"
     ]
    }
   ],
   "source": [
    "df.show(10)"
   ]
  },
  {
   "cell_type": "code",
   "execution_count": 23,
   "id": "be5a0bb7",
   "metadata": {},
   "outputs": [
    {
     "data": {
      "text/plain": [
       "107334"
      ]
     },
     "execution_count": 23,
     "metadata": {},
     "output_type": "execute_result"
    }
   ],
   "source": [
    "df.count()"
   ]
  },
  {
   "cell_type": "code",
   "execution_count": 24,
   "id": "e9b13518",
   "metadata": {},
   "outputs": [],
   "source": [
    "df = df.filter(col(\"shape_area\") >= 400)"
   ]
  },
  {
   "cell_type": "code",
   "execution_count": 25,
   "id": "5dafd6c3",
   "metadata": {},
   "outputs": [
    {
     "name": "stdout",
     "output_type": "stream",
     "text": [
      "+-------+----------+----------+--------------------+----------+----------+-------------------+---------+-----------+------------------+\n",
      "|    bin|cnstrct_yr|heightroof|            geometry|  base_bbl|mpluto_bbl|         lstmoddate|feat_code| lststatype|        shape_area|\n",
      "+-------+----------+----------+--------------------+----------+----------+-------------------+---------+-----------+------------------+\n",
      "|1062896|      1910|  59.72263|{[[[[-73.93870129...|1021210037|1021210037|2017-08-22 00:00:00|     2100|Constructed|218988.27357784502|\n",
      "|4029023|      1950|     27.49|{[[[[-73.89128952...|4012620069|4012620069|2017-08-22 00:00:00|     2100|Constructed|101689.72485146049|\n",
      "|2117853|      1973| 10.546548|{[[[[-73.87286565...|2027810500|2027810500|2014-07-16 00:00:00|     2100|Constructed| 78572.44530201452|\n",
      "|1039988|      1931| 167.21446|{[[[[-73.96425191...|1013490035|1013490035|2017-08-22 00:00:00|     2100|Constructed| 454849.5231173799|\n",
      "|1026714|      1910|     28.57|{[[[[-73.99058371...|1010610006|1010610006|2017-08-22 00:00:00|     2100|Constructed| 77867.58400544625|\n",
      "|1086948|      1974|  33.13003|{[[[[-73.93617179...|1017870060|1017870060|2009-02-14 00:00:00|     2100|Constructed|103926.40730850786|\n",
      "|2004511|      1901|     30.16|{[[[[-73.90466794...|2026330029|2026330029|2017-08-22 00:00:00|     2100|Constructed| 84964.15119213199|\n",
      "|1055733|      1905|   70.4934|{[[[[-73.96080016...|1018440058|1018440058|2017-08-22 00:00:00|     2100|Constructed|228180.58200360212|\n",
      "|2007158|      1901|     27.91|{[[[[-73.90984378...|2027820173|2027820173|2017-08-22 00:00:00|     2100|Constructed| 69620.70481008165|\n",
      "|4472063|      1925|   9.41991|{[[[[-73.86754711...|4016870059|4016870059|2017-08-17 00:00:00|     5110|Constructed| 38822.76869450094|\n",
      "+-------+----------+----------+--------------------+----------+----------+-------------------+---------+-----------+------------------+\n",
      "only showing top 10 rows\n",
      "\n"
     ]
    }
   ],
   "source": [
    "df.show(10)"
   ]
  },
  {
   "cell_type": "code",
   "execution_count": 40,
   "id": "1a48c3f9",
   "metadata": {},
   "outputs": [],
   "source": [
    "df.createOrReplaceTempView(\"buildings_final\")"
   ]
  },
  {
   "cell_type": "code",
   "execution_count": 26,
   "id": "8d4556b4",
   "metadata": {},
   "outputs": [
    {
     "data": {
      "text/plain": [
       "107334"
      ]
     },
     "execution_count": 26,
     "metadata": {},
     "output_type": "execute_result"
    }
   ],
   "source": [
    "df.count()"
   ]
  },
  {
   "cell_type": "code",
   "execution_count": 42,
   "id": "4c852519",
   "metadata": {},
   "outputs": [],
   "source": [
    "# geojson_df = spark.sql(\n",
    "#     \"\"\"\n",
    "#     SELECT \n",
    "#         bin, cnstrct_yr, heightroof, shape_area, base_bbl, mpluto_bbl,\n",
    "#         to_json(geometry) as geometry\n",
    "#     FROM buildings_final\n",
    "#     \"\"\"\n",
    "# )"
   ]
  },
  {
   "cell_type": "code",
   "execution_count": null,
   "id": "9aa2dd59",
   "metadata": {},
   "outputs": [],
   "source": []
  },
  {
   "cell_type": "code",
   "execution_count": 43,
   "id": "089b3f2b",
   "metadata": {},
   "outputs": [],
   "source": [
    "# feature_df = geojson_df.select(\n",
    "#     to_json(\n",
    "#         struct(\n",
    "#             lit(\"Feature\").alias(\"type\"),\n",
    "#             struct(\n",
    "#                 col(\"bin\"), col(\"cnstrct_yr\"), col(\"heightroof\"), col(\"shape_area\"), col(\"base_bbl\"), col(\"mpluto_bbl\")\n",
    "#             ).alias(\"properties\"),\n",
    "#             col(\"geometry\").alias(\"geometry\"),\n",
    "#         )\n",
    "#     ).alias(\"feature\")\n",
    "# )"
   ]
  },
  {
   "cell_type": "code",
   "execution_count": 12,
   "id": "df5a7ac5",
   "metadata": {},
   "outputs": [],
   "source": [
    "parquet_df = spark.read.parquet(\"hdfs://26.3.217.119:9000/climate_data/uhi_index_analytics/preprocessed/building.parquet\")"
   ]
  },
  {
   "cell_type": "code",
   "execution_count": 13,
   "id": "f6e3dfc2",
   "metadata": {},
   "outputs": [
    {
     "data": {
      "text/plain": [
       "60738"
      ]
     },
     "execution_count": 13,
     "metadata": {},
     "output_type": "execute_result"
    }
   ],
   "source": [
    "parquet_df.count()"
   ]
  },
  {
   "cell_type": "code",
   "execution_count": 14,
   "id": "c0690abc",
   "metadata": {},
   "outputs": [
    {
     "name": "stdout",
     "output_type": "stream",
     "text": [
      "+-------+----------+----------+--------------------+----------+----------+-------------------+---------+-----------+------------------+\n",
      "|    bin|cnstrct_yr|heightroof|            geometry|  base_bbl|mpluto_bbl|         lstmoddate|feat_code| lststatype|        shape_area|\n",
      "+-------+----------+----------+--------------------+----------+----------+-------------------+---------+-----------+------------------+\n",
      "|1062896|      1910|  59.72263|{[[[[-73.93870129...|1021210037|1021210037|2017-08-22 00:00:00|     2100|Constructed|218988.27357784502|\n",
      "|1039988|      1931| 167.21446|{[[[[-73.96425191...|1013490035|1013490035|2017-08-22 00:00:00|     2100|Constructed| 454849.5231173799|\n",
      "|1026714|      1910|     28.57|{[[[[-73.99058371...|1010610006|1010610006|2017-08-22 00:00:00|     2100|Constructed| 77867.58400544625|\n",
      "|1086948|      1974|  33.13003|{[[[[-73.93617179...|1017870060|1017870060|2009-02-14 00:00:00|     2100|Constructed|103926.40730850786|\n",
      "|2004511|      1901|     30.16|{[[[[-73.90466794...|2026330029|2026330029|2017-08-22 00:00:00|     2100|Constructed| 84964.15119213199|\n",
      "+-------+----------+----------+--------------------+----------+----------+-------------------+---------+-----------+------------------+\n",
      "only showing top 5 rows\n",
      "\n"
     ]
    }
   ],
   "source": [
    "parquet_df.show(5)"
   ]
  }
 ],
 "metadata": {
  "kernelspec": {
   "display_name": ".venv",
   "language": "python",
   "name": "python3"
  },
  "language_info": {
   "codemirror_mode": {
    "name": "ipython",
    "version": 3
   },
   "file_extension": ".py",
   "mimetype": "text/x-python",
   "name": "python",
   "nbconvert_exporter": "python",
   "pygments_lexer": "ipython3",
   "version": "3.11.9"
  }
 },
 "nbformat": 4,
 "nbformat_minor": 5
}
